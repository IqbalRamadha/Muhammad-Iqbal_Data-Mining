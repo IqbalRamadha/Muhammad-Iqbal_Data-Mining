{
  "nbformat": 4,
  "nbformat_minor": 0,
  "metadata": {
    "colab": {
      "provenance": []
    },
    "kernelspec": {
      "name": "python3",
      "display_name": "Python 3"
    },
    "language_info": {
      "name": "python"
    }
  },
  "cells": [
    {
      "cell_type": "code",
      "source": [
        "import pandas as pd\n",
        "import numpy as np\n",
        "s = pd.Series([1,3,5,np.nan,6,8])\n",
        "dates= pd.date_range('2023-10-01', periods=6)\n",
        "df = pd.DataFrame(np.random.randn(6,4), index=dates, columns=list('ABCD'))\n",
        "\n",
        "# Object Creation\n",
        "print(\"Object Creation:\")\n",
        "print(\"Series:\")\n",
        "print(s)\n",
        "print(\"\\nDataFrame:\")\n",
        "print(df)\n",
        "print(\"=\"*50)\n"
      ],
      "metadata": {
        "colab": {
          "base_uri": "https://localhost:8080/"
        },
        "id": "yoBV94MdjplD",
        "outputId": "28fbfacf-e410-40d1-eb3f-3648a3d3b37f"
      },
      "execution_count": null,
      "outputs": [
        {
          "output_type": "stream",
          "name": "stdout",
          "text": [
            "Object Creation:\n",
            "Series:\n",
            "0    1.0\n",
            "1    3.0\n",
            "2    5.0\n",
            "3    NaN\n",
            "4    6.0\n",
            "5    8.0\n",
            "dtype: float64\n",
            "\n",
            "DataFrame:\n",
            "                   A         B         C         D\n",
            "2023-10-01  0.406219 -0.638024  0.485463  0.100364\n",
            "2023-10-02  0.232704  0.195200 -0.646033 -0.574405\n",
            "2023-10-03  0.009147  0.414478 -0.069075 -0.956935\n",
            "2023-10-04  0.461220 -1.253181 -0.672879 -1.415103\n",
            "2023-10-05 -1.717332 -0.852971 -0.981412 -0.126519\n",
            "2023-10-06 -0.306688  1.268007 -0.036030 -0.016440\n",
            "==================================================\n"
          ]
        }
      ]
    },
    {
      "cell_type": "code",
      "execution_count": null,
      "metadata": {
        "colab": {
          "base_uri": "https://localhost:8080/"
        },
        "id": "NOUqMJIiArou",
        "outputId": "86f4e677-b2e3-4e95-9dd0-540627c8e23b"
      },
      "outputs": [
        {
          "output_type": "stream",
          "name": "stdout",
          "text": [
            "Viewing Data:\n",
            "First 3 rows: \n",
            "                   A         B         C         D\n",
            "2023-10-01  1.331143 -0.586727 -0.123825  0.100056\n",
            "2023-10-02 -0.819639  0.117018  0.541428 -1.391424\n",
            "2023-10-03 -1.010987  1.394962 -0.896458  1.761222\n",
            "\n",
            "Last 2 rows: \n",
            "                   A         B         C         D\n",
            "2023-10-05  0.855901  0.749935 -0.509433 -0.333764\n",
            "2023-10-06  0.972378  1.700954  1.405424  0.595213\n",
            "\n",
            "Index and Columns: \n",
            "DatetimeIndex(['2023-10-01', '2023-10-02', '2023-10-03', '2023-10-04',\n",
            "               '2023-10-05', '2023-10-06'],\n",
            "              dtype='datetime64[ns]', freq='D')\n",
            "Index(['A', 'B', 'C', 'D'], dtype='object')\n",
            "========================================\n"
          ]
        }
      ],
      "source": [
        "# Viewing Data\n",
        "print (\"Viewing Data:\")\n",
        "print (\"First 3 rows: \")\n",
        "print (df.head(3))\n",
        "print (\"\\nLast 2 rows: \")\n",
        "print(df.tail(2))\n",
        "print(\"\\nIndex and Columns: \")\n",
        "print(df.index)\n",
        "print(df.columns)\n",
        "print(\"=\"*40)"
      ]
    },
    {
      "cell_type": "code",
      "source": [
        "# Selection\n",
        "print (\"Selection:\")\n",
        "print(\"Selecting a column (A): \")\n",
        "print(df['A'])\n",
        "print (\"\\nSelecting by label (row 0): \")\n",
        "print(df.loc[dates[0]])\n",
        "print (\"\\nSelecting by position (row 1): \")\n",
        "print(df.iloc[1])\n",
        "print (\"\\nSelecting a subset of rows and columns:\")\n",
        "print (df.loc[dates[1:3], ['A', 'B']])\n",
        "print(\"=\"*40)"
      ],
      "metadata": {
        "colab": {
          "base_uri": "https://localhost:8080/"
        },
        "id": "HzXfInNRBCrS",
        "outputId": "1d5fb404-80c5-4971-f48d-adbb9c46cbb3"
      },
      "execution_count": null,
      "outputs": [
        {
          "output_type": "stream",
          "name": "stdout",
          "text": [
            "Selection:\n",
            "Selecting a column (A): \n",
            "2023-10-01    1.331143\n",
            "2023-10-02   -0.819639\n",
            "2023-10-03   -1.010987\n",
            "2023-10-04   -1.247245\n",
            "2023-10-05    0.855901\n",
            "2023-10-06    0.972378\n",
            "Freq: D, Name: A, dtype: float64\n",
            "\n",
            "Selecting by label (row 0): \n",
            "A    1.331143\n",
            "B   -0.586727\n",
            "C   -0.123825\n",
            "D    0.100056\n",
            "Name: 2023-10-01 00:00:00, dtype: float64\n",
            "\n",
            "Selecting by position (row 1): \n",
            "A   -0.819639\n",
            "B    0.117018\n",
            "C    0.541428\n",
            "D   -1.391424\n",
            "Name: 2023-10-02 00:00:00, dtype: float64\n",
            "\n",
            "Selecting a subset of rows and columns:\n",
            "                   A         B\n",
            "2023-10-02 -0.819639  0.117018\n",
            "2023-10-03 -1.010987  1.394962\n",
            "========================================\n"
          ]
        }
      ]
    },
    {
      "cell_type": "code",
      "source": [
        "# Missing Data\n",
        "df1 = df.reindex(index=dates[0:4],columns=list(df.columns) + ['E'])\n",
        "df1.loc[dates[0]:dates[1],'E'] = 1\n",
        "\n",
        "print(\"Missing Data\")\n",
        "print(\"DataFrame with missing values:\")\n",
        "print(df1)\n",
        "print(\"\\nDroping rows with missing values\")\n",
        "print(df1.dropna())\n",
        "print(\"\\nFilling missing valeus:\")\n",
        "print (df1.fillna(value=0))\n",
        "print(\"=\"*60)"
      ],
      "metadata": {
        "colab": {
          "base_uri": "https://localhost:8080/"
        },
        "id": "S4RZdaHiFquH",
        "outputId": "53538ad1-944c-4b59-b7cc-aaad612fe082"
      },
      "execution_count": null,
      "outputs": [
        {
          "output_type": "stream",
          "name": "stdout",
          "text": [
            "Missing Data\n",
            "DataFrame with missing values:\n",
            "                   A         B         C         D    E\n",
            "2023-10-01  1.331143 -0.586727 -0.123825  0.100056  1.0\n",
            "2023-10-02 -0.819639  0.117018  0.541428 -1.391424  1.0\n",
            "2023-10-03 -1.010987  1.394962 -0.896458  1.761222  NaN\n",
            "2023-10-04 -1.247245  0.126731 -0.191836 -0.291870  NaN\n",
            "\n",
            "Droping rows with missing values\n",
            "                   A         B         C         D    E\n",
            "2023-10-01  1.331143 -0.586727 -0.123825  0.100056  1.0\n",
            "2023-10-02 -0.819639  0.117018  0.541428 -1.391424  1.0\n",
            "\n",
            "Filling missing valeus:\n",
            "                   A         B         C         D    E\n",
            "2023-10-01  1.331143 -0.586727 -0.123825  0.100056  1.0\n",
            "2023-10-02 -0.819639  0.117018  0.541428 -1.391424  1.0\n",
            "2023-10-03 -1.010987  1.394962 -0.896458  1.761222  0.0\n",
            "2023-10-04 -1.247245  0.126731 -0.191836 -0.291870  0.0\n",
            "============================================================\n"
          ]
        }
      ]
    },
    {
      "cell_type": "code",
      "source": [
        "# Operations\n",
        "print (\"Operations:\")\n",
        "print (\" Mean of each column\")\n",
        "print (df.mean())\n",
        "print (\"\\nSum of each row:\")\n",
        "print (df.sum(axis=1))\n",
        "print (\"=\"*40)"
      ],
      "metadata": {
        "colab": {
          "base_uri": "https://localhost:8080/"
        },
        "id": "4R03dslYFqSV",
        "outputId": "afc3160b-8e8a-4202-a886-263975eced72"
      },
      "execution_count": null,
      "outputs": [
        {
          "output_type": "stream",
          "name": "stdout",
          "text": [
            "Operations:\n",
            " Mean of each column\n",
            "A    0.013592\n",
            "B    0.583812\n",
            "C    0.037550\n",
            "D    0.073239\n",
            "dtype: float64\n",
            "\n",
            "Sum of each row:\n",
            "2023-10-01    0.720647\n",
            "2023-10-02   -1.552616\n",
            "2023-10-03    1.248740\n",
            "2023-10-04   -1.604220\n",
            "2023-10-05    0.762639\n",
            "2023-10-06    4.673970\n",
            "Freq: D, dtype: float64\n",
            "========================================\n"
          ]
        }
      ]
    },
    {
      "cell_type": "markdown",
      "source": [],
      "metadata": {
        "id": "t2V2qLfOFpuO"
      }
    },
    {
      "cell_type": "code",
      "source": [
        "# Merge\n",
        "import pandas as pd\n",
        "\n",
        "left = pd.DataFrame({'key': ['KO', 'Κ1', 'K2', 'K3'], 'Α': ['ΑΘ', 'A1', 'A2', 'A3'], 'Β': ['ΒΘ', 'B1', 'B2', 'B3']})\n",
        "right = pd.DataFrame({'key': ['KO', 'Κ1', 'K2', 'K3'], 'C': ['C0', 'C1', 'C2', 'C3'], 'D': ['D', 'D1', 'D2', 'D3']})\n",
        "\n",
        "merged_df = pd.merge(left, right, on='key')\n",
        "print(\"Merged DataFrame:\")\n",
        "print(merged_df)\n",
        "\n"
      ],
      "metadata": {
        "colab": {
          "base_uri": "https://localhost:8080/"
        },
        "id": "VFqZxeUyDtbh",
        "outputId": "6f346d10-dc61-46d4-d08d-50e666d03818"
      },
      "execution_count": null,
      "outputs": [
        {
          "output_type": "stream",
          "name": "stdout",
          "text": [
            "Merged DataFrame:\n",
            "  key   Α   Β   C   D\n",
            "0  KO  ΑΘ  ΒΘ  C0   D\n",
            "1  Κ1  A1  B1  C1  D1\n",
            "2  K2  A2  B2  C2  D2\n",
            "3  K3  A3  B3  C3  D3\n"
          ]
        }
      ]
    },
    {
      "cell_type": "code",
      "source": [
        "import pandas as pd\n",
        "\n",
        "# Mendefinisikan DataFrame 'df'\n",
        "df = pd.DataFrame({\n",
        "    'A': ['foo', 'bar', 'foo', 'bar', 'foo', 'bar'],\n",
        "    'B': [1, 2, 3, 4, 5, 6],\n",
        "    'C': [7, 8, 9, 10, 11, 12]\n",
        "})\n",
        "\n",
        "# Melakukan grouping berdasarkan kolom 'A'\n",
        "grouped = df.groupby('A').sum()\n",
        "\n",
        "print(\"Grouping:\")\n",
        "print(\"Grouped DataFrame:\")\n",
        "print(grouped)\n",
        "print(\"=\"*40)\n"
      ],
      "metadata": {
        "colab": {
          "base_uri": "https://localhost:8080/"
        },
        "id": "6pjVSaPuMwe7",
        "outputId": "94be9d72-a5f3-4385-cc75-7398486b8947"
      },
      "execution_count": null,
      "outputs": [
        {
          "output_type": "stream",
          "name": "stdout",
          "text": [
            "Grouping:\n",
            "Grouped DataFrame:\n",
            "      B   C\n",
            "A          \n",
            "bar  12  30\n",
            "foo   9  27\n",
            "========================================\n"
          ]
        }
      ]
    },
    {
      "cell_type": "code",
      "source": [],
      "metadata": {
        "id": "gZIAYhUBMwVi"
      },
      "execution_count": null,
      "outputs": []
    },
    {
      "cell_type": "code",
      "source": [
        "import pandas as pd\n",
        "import numpy as np\n",
        "\n",
        "# Membuat time series dengan nilai acak\n",
        "ts = pd.Series(np.random.randn(1000), index=pd.date_range('2023-01-01', periods=1000))\n",
        "\n",
        "# Menghitung cumulative sum dari time series\n",
        "cumulative_sum = ts.cumsum()\n",
        "\n",
        "# Menampilkan hasil\n",
        "print(\"Time Series (head):\")\n",
        "print(ts.head())\n",
        "\n",
        "print(\"\\nCumulative Sum (head):\")\n",
        "print(cumulative_sum.head())\n",
        "print(\"=\" * 40)\n"
      ],
      "metadata": {
        "colab": {
          "base_uri": "https://localhost:8080/"
        },
        "id": "WmPBP0pwMwGW",
        "outputId": "3a26f1f8-bc92-4304-ed27-e07f590fa491"
      },
      "execution_count": null,
      "outputs": [
        {
          "output_type": "stream",
          "name": "stdout",
          "text": [
            "Time Series (head):\n",
            "2023-01-01   -0.128606\n",
            "2023-01-02    0.693366\n",
            "2023-01-03   -0.556924\n",
            "2023-01-04    0.171102\n",
            "2023-01-05   -0.278628\n",
            "Freq: D, dtype: float64\n",
            "\n",
            "Cumulative Sum (head):\n",
            "2023-01-01   -0.128606\n",
            "2023-01-02    0.564760\n",
            "2023-01-03    0.007836\n",
            "2023-01-04    0.178938\n",
            "2023-01-05   -0.099690\n",
            "Freq: D, dtype: float64\n",
            "========================================\n"
          ]
        }
      ]
    },
    {
      "cell_type": "code",
      "source": [],
      "metadata": {
        "id": "q0vpLgCkQMGV"
      },
      "execution_count": null,
      "outputs": []
    },
    {
      "cell_type": "code",
      "source": [
        "#Categoricals\n",
        "import pandas as pd\n",
        "\n",
        "# Membuat Series dengan kategori\n",
        "s = pd.Series([\"cat\", \"dog\", \"bird\", \"cat\", \"dog\"], dtype=\"category\")\n",
        "\n",
        "# Mengubah kategori menjadi kategori baru\n",
        "new_categories = [\"Category 1\", \"Category 2\", \"Category 3\"]\n",
        "# Buat Seri kategoris baru dengan kategori baru\n",
        "s_new = s.cat.set_categories(new_categories)\n",
        "\n",
        "# Menampilkan hasil\n",
        "print(\"Categoricals:\")\n",
        "print(\"Original Categorical Series:\")\n",
        "print(s)\n",
        "print(\"\\nNew Categorical Series with updated categories:\")\n",
        "print(s_new)\n"
      ],
      "metadata": {
        "colab": {
          "base_uri": "https://localhost:8080/"
        },
        "id": "fWJeOzq9Nk-Q",
        "outputId": "27f30d92-d38f-4b90-ab63-2a6ec5e2b310"
      },
      "execution_count": null,
      "outputs": [
        {
          "output_type": "stream",
          "name": "stdout",
          "text": [
            "Categoricals:\n",
            "Original Categorical Series:\n",
            "0     cat\n",
            "1     dog\n",
            "2    bird\n",
            "3     cat\n",
            "4     dog\n",
            "dtype: category\n",
            "Categories (3, object): ['bird', 'cat', 'dog']\n",
            "\n",
            "New Categorical Series with updated categories:\n",
            "0    NaN\n",
            "1    NaN\n",
            "2    NaN\n",
            "3    NaN\n",
            "4    NaN\n",
            "dtype: category\n",
            "Categories (3, object): ['Category 1', 'Category 2', 'Category 3']\n"
          ]
        }
      ]
    },
    {
      "cell_type": "code",
      "source": [],
      "metadata": {
        "id": "HbekPFYaQ9NI"
      },
      "execution_count": null,
      "outputs": []
    },
    {
      "cell_type": "code",
      "source": [
        "#Plotting\n",
        "import pandas as pd\n",
        "import matplotlib.pyplot as plt\n",
        "\n",
        "# Contoh DataFrame\n",
        "df = pd.DataFrame({\n",
        "    'A': [1, 2, 3, 4, 5],\n",
        "    'B': [5, 4, 3, 2, 1]\n",
        "})\n",
        "\n",
        "# Plot data dari DataFrame\n",
        "df.plot()\n",
        "\n",
        "# Menampilkan plot\n",
        "plt.show()\n",
        "\n",
        "print(\"Plotting\")\n",
        "print(\"=\" * 40)\n"
      ],
      "metadata": {
        "colab": {
          "base_uri": "https://localhost:8080/",
          "height": 465
        },
        "id": "Mi1fxTOQQM3B",
        "outputId": "397555fb-24c9-42c8-9e80-d62011e9797b"
      },
      "execution_count": null,
      "outputs": [
        {
          "output_type": "display_data",
          "data": {
            "text/plain": [
              "<Figure size 640x480 with 1 Axes>"
            ],
            "image/png": "[encoded data removed]"
          },
          "metadata": {}
        },
        {
          "output_type": "stream",
          "name": "stdout",
          "text": [
            "Plotting\n",
            "========================================\n"
          ]
        }
      ]
    },
    {
      "cell_type": "code",
      "source": [],
      "metadata": {
        "id": "cnHsQ-SUROf0"
      },
      "execution_count": null,
      "outputs": []
    },
    {
      "cell_type": "code",
      "source": [
        "import pandas as pd\n",
        "\n",
        "# Mengimpor data dari CSV ke DataFrame\n",
        "imported_df = pd.read_csv('sampel_data.csv')\n",
        "\n",
        "# Menampilkan hasil impor dan ekspor data\n",
        "print(\"Importing and Exporting Data:\")\n",
        "print(\"Imported DataFrame from CSV:\")\n",
        "print(imported_df)\n",
        "\n",
        "# Mengekspor data ke CSV\n",
        "imported_df.to_csv('sampel_data2.csv', index=False)\n",
        "print(\"\\nExported DataFrame to CSV: 'sampel_data2.csv'\")\n",
        "print(\"=\" * 40)\n"
      ],
      "metadata": {
        "id": "8s4lrOtDQ-JQ",
        "colab": {
          "base_uri": "https://localhost:8080/",
          "height": 356
        },
        "outputId": "6066fa08-6401-463e-a77e-1abc32a6f65b"
      },
      "execution_count": null,
      "outputs": [
        {
          "output_type": "error",
          "ename": "FileNotFoundError",
          "evalue": "[Errno 2] No such file or directory: 'sampel_data.csv'",
          "traceback": [
            "\u001b[0;31m---------------------------------------------------------------------------\u001b[0m",
            "\u001b[0;31mFileNotFoundError\u001b[0m                         Traceback (most recent call last)",
            "\u001b[0;32m<ipython-input-15-fd08d4df3626>\u001b[0m in \u001b[0;36m<cell line: 4>\u001b[0;34m()\u001b[0m\n\u001b[1;32m      2\u001b[0m \u001b[0;34m\u001b[0m\u001b[0m\n\u001b[1;32m      3\u001b[0m \u001b[0;31m# Mengimpor data dari CSV ke DataFrame\u001b[0m\u001b[0;34m\u001b[0m\u001b[0;34m\u001b[0m\u001b[0m\n\u001b[0;32m----> 4\u001b[0;31m \u001b[0mimported_df\u001b[0m \u001b[0;34m=\u001b[0m \u001b[0mpd\u001b[0m\u001b[0;34m.\u001b[0m\u001b[0mread_csv\u001b[0m\u001b[0;34m(\u001b[0m\u001b[0;34m'sampel_data.csv'\u001b[0m\u001b[0;34m)\u001b[0m\u001b[0;34m\u001b[0m\u001b[0;34m\u001b[0m\u001b[0m\n\u001b[0m\u001b[1;32m      5\u001b[0m \u001b[0;34m\u001b[0m\u001b[0m\n\u001b[1;32m      6\u001b[0m \u001b[0;31m# Menampilkan hasil impor dan ekspor data\u001b[0m\u001b[0;34m\u001b[0m\u001b[0;34m\u001b[0m\u001b[0m\n",
            "\u001b[0;32m/usr/local/lib/python3.10/dist-packages/pandas/io/parsers/readers.py\u001b[0m in \u001b[0;36mread_csv\u001b[0;34m(filepath_or_buffer, sep, delimiter, header, names, index_col, usecols, dtype, engine, converters, true_values, false_values, skipinitialspace, skiprows, skipfooter, nrows, na_values, keep_default_na, na_filter, verbose, skip_blank_lines, parse_dates, infer_datetime_format, keep_date_col, date_parser, date_format, dayfirst, cache_dates, iterator, chunksize, compression, thousands, decimal, lineterminator, quotechar, quoting, doublequote, escapechar, comment, encoding, encoding_errors, dialect, on_bad_lines, delim_whitespace, low_memory, memory_map, float_precision, storage_options, dtype_backend)\u001b[0m\n\u001b[1;32m   1024\u001b[0m     \u001b[0mkwds\u001b[0m\u001b[0;34m.\u001b[0m\u001b[0mupdate\u001b[0m\u001b[0;34m(\u001b[0m\u001b[0mkwds_defaults\u001b[0m\u001b[0;34m)\u001b[0m\u001b[0;34m\u001b[0m\u001b[0;34m\u001b[0m\u001b[0m\n\u001b[1;32m   1025\u001b[0m \u001b[0;34m\u001b[0m\u001b[0m\n\u001b[0;32m-> 1026\u001b[0;31m     \u001b[0;32mreturn\u001b[0m \u001b[0m_read\u001b[0m\u001b[0;34m(\u001b[0m\u001b[0mfilepath_or_buffer\u001b[0m\u001b[0;34m,\u001b[0m \u001b[0mkwds\u001b[0m\u001b[0;34m)\u001b[0m\u001b[0;34m\u001b[0m\u001b[0;34m\u001b[0m\u001b[0m\n\u001b[0m\u001b[1;32m   1027\u001b[0m \u001b[0;34m\u001b[0m\u001b[0m\n\u001b[1;32m   1028\u001b[0m \u001b[0;34m\u001b[0m\u001b[0m\n",
            "\u001b[0;32m/usr/local/lib/python3.10/dist-packages/pandas/io/parsers/readers.py\u001b[0m in \u001b[0;36m_read\u001b[0;34m(filepath_or_buffer, kwds)\u001b[0m\n\u001b[1;32m    618\u001b[0m \u001b[0;34m\u001b[0m\u001b[0m\n\u001b[1;32m    619\u001b[0m     \u001b[0;31m# Create the parser.\u001b[0m\u001b[0;34m\u001b[0m\u001b[0;34m\u001b[0m\u001b[0m\n\u001b[0;32m--> 620\u001b[0;31m     \u001b[0mparser\u001b[0m \u001b[0;34m=\u001b[0m \u001b[0mTextFileReader\u001b[0m\u001b[0;34m(\u001b[0m\u001b[0mfilepath_or_buffer\u001b[0m\u001b[0;34m,\u001b[0m \u001b[0;34m**\u001b[0m\u001b[0mkwds\u001b[0m\u001b[0;34m)\u001b[0m\u001b[0;34m\u001b[0m\u001b[0;34m\u001b[0m\u001b[0m\n\u001b[0m\u001b[1;32m    621\u001b[0m \u001b[0;34m\u001b[0m\u001b[0m\n\u001b[1;32m    622\u001b[0m     \u001b[0;32mif\u001b[0m \u001b[0mchunksize\u001b[0m \u001b[0;32mor\u001b[0m \u001b[0miterator\u001b[0m\u001b[0;34m:\u001b[0m\u001b[0;34m\u001b[0m\u001b[0;34m\u001b[0m\u001b[0m\n",
            "\u001b[0;32m/usr/local/lib/python3.10/dist-packages/pandas/io/parsers/readers.py\u001b[0m in \u001b[0;36m__init__\u001b[0;34m(self, f, engine, **kwds)\u001b[0m\n\u001b[1;32m   1618\u001b[0m \u001b[0;34m\u001b[0m\u001b[0m\n\u001b[1;32m   1619\u001b[0m         \u001b[0mself\u001b[0m\u001b[0;34m.\u001b[0m\u001b[0mhandles\u001b[0m\u001b[0;34m:\u001b[0m \u001b[0mIOHandles\u001b[0m \u001b[0;34m|\u001b[0m \u001b[0;32mNone\u001b[0m \u001b[0;34m=\u001b[0m \u001b[0;32mNone\u001b[0m\u001b[0;34m\u001b[0m\u001b[0;34m\u001b[0m\u001b[0m\n\u001b[0;32m-> 1620\u001b[0;31m         \u001b[0mself\u001b[0m\u001b[0;34m.\u001b[0m\u001b[0m_engine\u001b[0m \u001b[0;34m=\u001b[0m \u001b[0mself\u001b[0m\u001b[0;34m.\u001b[0m\u001b[0m_make_engine\u001b[0m\u001b[0;34m(\u001b[0m\u001b[0mf\u001b[0m\u001b[0;34m,\u001b[0m \u001b[0mself\u001b[0m\u001b[0;34m.\u001b[0m\u001b[0mengine\u001b[0m\u001b[0;34m)\u001b[0m\u001b[0;34m\u001b[0m\u001b[0;34m\u001b[0m\u001b[0m\n\u001b[0m\u001b[1;32m   1621\u001b[0m \u001b[0;34m\u001b[0m\u001b[0m\n\u001b[1;32m   1622\u001b[0m     \u001b[0;32mdef\u001b[0m \u001b[0mclose\u001b[0m\u001b[0;34m(\u001b[0m\u001b[0mself\u001b[0m\u001b[0;34m)\u001b[0m \u001b[0;34m->\u001b[0m \u001b[0;32mNone\u001b[0m\u001b[0;34m:\u001b[0m\u001b[0;34m\u001b[0m\u001b[0;34m\u001b[0m\u001b[0m\n",
            "\u001b[0;32m/usr/local/lib/python3.10/dist-packages/pandas/io/parsers/readers.py\u001b[0m in \u001b[0;36m_make_engine\u001b[0;34m(self, f, engine)\u001b[0m\n\u001b[1;32m   1878\u001b[0m                 \u001b[0;32mif\u001b[0m \u001b[0;34m\"b\"\u001b[0m \u001b[0;32mnot\u001b[0m \u001b[0;32min\u001b[0m \u001b[0mmode\u001b[0m\u001b[0;34m:\u001b[0m\u001b[0;34m\u001b[0m\u001b[0;34m\u001b[0m\u001b[0m\n\u001b[1;32m   1879\u001b[0m                     \u001b[0mmode\u001b[0m \u001b[0;34m+=\u001b[0m \u001b[0;34m\"b\"\u001b[0m\u001b[0;34m\u001b[0m\u001b[0;34m\u001b[0m\u001b[0m\n\u001b[0;32m-> 1880\u001b[0;31m             self.handles = get_handle(\n\u001b[0m\u001b[1;32m   1881\u001b[0m                 \u001b[0mf\u001b[0m\u001b[0;34m,\u001b[0m\u001b[0;34m\u001b[0m\u001b[0;34m\u001b[0m\u001b[0m\n\u001b[1;32m   1882\u001b[0m                 \u001b[0mmode\u001b[0m\u001b[0;34m,\u001b[0m\u001b[0;34m\u001b[0m\u001b[0;34m\u001b[0m\u001b[0m\n",
            "\u001b[0;32m/usr/local/lib/python3.10/dist-packages/pandas/io/common.py\u001b[0m in \u001b[0;36mget_handle\u001b[0;34m(path_or_buf, mode, encoding, compression, memory_map, is_text, errors, storage_options)\u001b[0m\n\u001b[1;32m    871\u001b[0m         \u001b[0;32mif\u001b[0m \u001b[0mioargs\u001b[0m\u001b[0;34m.\u001b[0m\u001b[0mencoding\u001b[0m \u001b[0;32mand\u001b[0m \u001b[0;34m\"b\"\u001b[0m \u001b[0;32mnot\u001b[0m \u001b[0;32min\u001b[0m \u001b[0mioargs\u001b[0m\u001b[0;34m.\u001b[0m\u001b[0mmode\u001b[0m\u001b[0;34m:\u001b[0m\u001b[0;34m\u001b[0m\u001b[0;34m\u001b[0m\u001b[0m\n\u001b[1;32m    872\u001b[0m             \u001b[0;31m# Encoding\u001b[0m\u001b[0;34m\u001b[0m\u001b[0;34m\u001b[0m\u001b[0m\n\u001b[0;32m--> 873\u001b[0;31m             handle = open(\n\u001b[0m\u001b[1;32m    874\u001b[0m                 \u001b[0mhandle\u001b[0m\u001b[0;34m,\u001b[0m\u001b[0;34m\u001b[0m\u001b[0;34m\u001b[0m\u001b[0m\n\u001b[1;32m    875\u001b[0m                 \u001b[0mioargs\u001b[0m\u001b[0;34m.\u001b[0m\u001b[0mmode\u001b[0m\u001b[0;34m,\u001b[0m\u001b[0;34m\u001b[0m\u001b[0;34m\u001b[0m\u001b[0m\n",
            "\u001b[0;31mFileNotFoundError\u001b[0m: [Errno 2] No such file or directory: 'sampel_data.csv'"
          ]
        }
      ]
    }
  ]
}